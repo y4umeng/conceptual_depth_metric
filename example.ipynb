{
 "cells": [
  {
   "cell_type": "markdown",
   "metadata": {},
   "source": [
    "# Imports"
   ]
  },
  {
   "cell_type": "code",
   "execution_count": 1,
   "metadata": {},
   "outputs": [
    {
     "name": "stderr",
     "output_type": "stream",
     "text": [
      "/Users/yau/Documents/research/conceptual_depth_metric/.venv/lib/python3.11/site-packages/sentence_transformers/cross_encoder/CrossEncoder.py:13: TqdmWarning: IProgress not found. Please update jupyter and ipywidgets. See https://ipywidgets.readthedocs.io/en/stable/user_install.html\n",
      "  from tqdm.autonotebook import tqdm, trange\n",
      "/Users/yau/Documents/research/conceptual_depth_metric/.venv/lib/python3.11/site-packages/transformers/tokenization_utils_base.py:1601: FutureWarning: `clean_up_tokenization_spaces` was not set. It will be set to `True` by default. This behavior will be depracted in transformers v4.45, and will be then set to `False` by default. For more details check this issue: https://github.com/huggingface/transformers/issues/31884\n",
      "  warnings.warn(\n"
     ]
    }
   ],
   "source": [
    "from src.parsing import get_activation_sentences, get_feature_from_link, get_features_from_disk, json_to_link\n",
    "from src.metrics import get_conceptual_level\n",
    "from sentence_transformers import SentenceTransformer\n",
    "import os\n",
    "\n",
    "model = SentenceTransformer('sentence-transformers/all-mpnet-base-v2')"
   ]
  },
  {
   "cell_type": "markdown",
   "metadata": {},
   "source": [
    "# Calculating conceptual level for features stored locally\n",
    "Downloaded from "
   ]
  },
  {
   "cell_type": "code",
   "execution_count": 4,
   "metadata": {},
   "outputs": [
    {
     "name": "stdout",
     "output_type": "stream",
     "text": [
      "https://www.neuronpedia.org/gemma-2-2b/21-gemmascope-res-16k/768\n",
      "39\n",
      "(0.1445671231530664, 0.15219988749546853, 0.16023564174481483)\n",
      "https://www.neuronpedia.org/gemma-2-2b/21-gemmascope-res-16k/7552\n",
      "42\n",
      "(0.08441547959435536, 0.11029140173504219, 0.14409908413875616)\n"
     ]
    }
   ],
   "source": [
    "filename = \"data/example_features.json\"\n",
    "for feature in get_features_from_disk(filename):\n",
    "    sentences, tokens = get_activation_sentences(feature, window=40, num_samples=100)\n",
    "    print(json_to_link(feature))\n",
    "    print(len(sentences))\n",
    "    print(get_conceptual_level(sentences, model))\n",
    "    "
   ]
  },
  {
   "cell_type": "markdown",
   "metadata": {},
   "source": [
    "# Calculating conceptual level directly from neuronpedia link\n",
    "Must set NEURONPEDIA_KEY environment variable to your API key"
   ]
  },
  {
   "cell_type": "code",
   "execution_count": 2,
   "metadata": {},
   "outputs": [
    {
     "name": "stdout",
     "output_type": "stream",
     "text": [
      "gemma-2-2b 21-gemmascope-res-16k 7552\n"
     ]
    }
   ],
   "source": [
    "feature_json = get_feature_from_link(\"https://www.neuronpedia.org/gemma-2-2b/21-gemmascope-res-16k/7552\", os.environ[\"NEURONPEDIA_KEY\"])\n"
   ]
  }
 ],
 "metadata": {
  "kernelspec": {
   "display_name": ".venv",
   "language": "python",
   "name": "python3"
  },
  "language_info": {
   "codemirror_mode": {
    "name": "ipython",
    "version": 3
   },
   "file_extension": ".py",
   "mimetype": "text/x-python",
   "name": "python",
   "nbconvert_exporter": "python",
   "pygments_lexer": "ipython3",
   "version": "3.11.1"
  }
 },
 "nbformat": 4,
 "nbformat_minor": 2
}
