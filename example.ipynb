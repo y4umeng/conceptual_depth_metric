{
 "cells": [
  {
   "cell_type": "markdown",
   "metadata": {},
   "source": [
    "# Imports"
   ]
  },
  {
   "cell_type": "code",
   "execution_count": 3,
   "metadata": {},
   "outputs": [],
   "source": [
    "from src.parsing import get_activation_sentences, get_feature_from_link, get_features_from_disk, json_to_link\n",
    "from src.metrics import get_conceptual_level\n",
    "from sentence_transformers import SentenceTransformer\n",
    "import os\n",
    "\n",
    "model = SentenceTransformer('sentence-transformers/all-mpnet-base-v2')"
   ]
  },
  {
   "cell_type": "markdown",
   "metadata": {},
   "source": [
    "# Calculating conceptual level for features stored locally"
   ]
  },
  {
   "cell_type": "code",
   "execution_count": 2,
   "metadata": {},
   "outputs": [
    {
     "name": "stdout",
     "output_type": "stream",
     "text": [
      "https://www.neuronpedia.org/gemma-2-2b/21-gemmascope-res-16k/768\n",
      "(0.14362378363834455, 0.15159316849938026, 0.16000475794140118)\n",
      "https://www.neuronpedia.org/gemma-2-2b/21-gemmascope-res-16k/7552\n",
      "(0.08441547959435536, 0.11029140173504219, 0.14409908413875616)\n"
     ]
    }
   ],
   "source": [
    "filename = \"data/example_features.json\"\n",
    "for feature in get_features_from_disk(filename):\n",
    "    sentences, tokens = get_activation_sentences(feature, window=40, num_samples=100)\n",
    "    print(json_to_link(feature))\n",
    "    print(get_conceptual_level(sentences, model))\n",
    "    "
   ]
  },
  {
   "cell_type": "code",
   "execution_count": 6,
   "metadata": {},
   "outputs": [
    {
     "name": "stdout",
     "output_type": "stream",
     "text": [
      "gemma-2-2b 21-gemmascope-res-16k 7552\n"
     ]
    },
    {
     "data": {
      "text/plain": [
       "b'The deployment could not be found on Vercel.\\n\\nDEPLOYMENT_NOT_FOUND\\n'"
      ]
     },
     "execution_count": 6,
     "metadata": {},
     "output_type": "execute_result"
    }
   ],
   "source": [
    "feature_json = get_feature_from_link(\"https://www.neuronpedia.org/gemma-2-2b/21-gemmascope-res-16k/7552\", os.environ[\"NEURONPEDIA_KEY\"])\n",
    "feature_json"
   ]
  }
 ],
 "metadata": {
  "kernelspec": {
   "display_name": ".venv",
   "language": "python",
   "name": "python3"
  },
  "language_info": {
   "codemirror_mode": {
    "name": "ipython",
    "version": 3
   },
   "file_extension": ".py",
   "mimetype": "text/x-python",
   "name": "python",
   "nbconvert_exporter": "python",
   "pygments_lexer": "ipython3",
   "version": "3.11.1"
  }
 },
 "nbformat": 4,
 "nbformat_minor": 2
}
